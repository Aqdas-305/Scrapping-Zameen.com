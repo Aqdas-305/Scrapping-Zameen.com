{
 "cells": [
  {
   "attachments": {},
   "cell_type": "markdown",
   "id": "b03b32b8",
   "metadata": {},
   "source": [
    "### Importing Relevant Libraries"
   ]
  },
  {
   "cell_type": "code",
   "execution_count": 1,
   "id": "dc21c7e0",
   "metadata": {},
   "outputs": [],
   "source": [
    "from selenium import webdriver\n",
    "from selenium.webdriver.common.keys import Keys\n",
    "from selenium.webdriver.common.by import By\n",
    "from selenium.webdriver.chrome.options import Options\n",
    "import time"
   ]
  },
  {
   "attachments": {},
   "cell_type": "markdown",
   "id": "8ceaf069",
   "metadata": {},
   "source": [
    "### Initiating Webdriver and opening Desired Page"
   ]
  },
  {
   "cell_type": "code",
   "execution_count": 2,
   "id": "5ab9c2a0",
   "metadata": {},
   "outputs": [
    {
     "name": "stderr",
     "output_type": "stream",
     "text": [
      "C:\\Users\\USER\\AppData\\Local\\Temp\\ipykernel_25424\\3866142022.py:3: DeprecationWarning: executable_path has been deprecated, please pass in a Service object\n",
      "  driver = webdriver.Chrome(\"C:\\Chrome Web Driver\\chromedriver_win32\\chromedriver.exe\")\n"
     ]
    }
   ],
   "source": [
    "website = \"https://www.zameen.com/Homes/Karachi_Gulshan_e_Iqbal_Town-6858-1.html\"\n",
    "\n",
    "driver = webdriver.Chrome(\"C:\\Chrome Web Driver\\chromedriver_win32\\chromedriver.exe\")\n",
    "\n",
    "driver.get(website)\n",
    "\n",
    "driver.maximize_window()"
   ]
  },
  {
   "attachments": {},
   "cell_type": "markdown",
   "id": "fec10ae3",
   "metadata": {},
   "source": [
    "# Scrapping Data one by one"
   ]
  },
  {
   "cell_type": "markdown",
   "id": "c5dd46b0",
   "metadata": {},
   "source": [
    "## Price"
   ]
  },
  {
   "cell_type": "code",
   "execution_count": 3,
   "id": "44a1e273",
   "metadata": {},
   "outputs": [],
   "source": [
    "prices = driver.find_elements(By.CLASS_NAME, 'f343d9ce')"
   ]
  },
  {
   "cell_type": "code",
   "execution_count": 4,
   "id": "6584c914",
   "metadata": {},
   "outputs": [],
   "source": [
    "price_lst = []\n",
    "for i in prices:\n",
    "    price_lst.append(i.text)"
   ]
  },
  {
   "cell_type": "code",
   "execution_count": 5,
   "id": "c2188073",
   "metadata": {},
   "outputs": [
    {
     "data": {
      "text/plain": [
       "['2.9 Crore',\n",
       " '1.2 Crore',\n",
       " '1.4 Crore',\n",
       " '6 Crore',\n",
       " '1.4 Crore',\n",
       " '4.25 Crore',\n",
       " '4.2 Crore',\n",
       " '1.1 Crore',\n",
       " '65 Lakh',\n",
       " '1.95 Crore',\n",
       " '2.9 Crore',\n",
       " '1.25 Crore',\n",
       " '2.25 Crore',\n",
       " '1.05 Crore',\n",
       " '1.75 Crore',\n",
       " '9.35 Crore',\n",
       " '6.75 Crore',\n",
       " '2.25 Crore',\n",
       " '3.5 Crore',\n",
       " '2.7 Crore',\n",
       " '8.5 Crore',\n",
       " '4.5 Crore',\n",
       " '3 Crore',\n",
       " '6.6 Crore',\n",
       " '6.25 Crore']"
      ]
     },
     "execution_count": 5,
     "metadata": {},
     "output_type": "execute_result"
    }
   ],
   "source": [
    "price_lst"
   ]
  },
  {
   "cell_type": "code",
   "execution_count": 6,
   "id": "e657c661",
   "metadata": {},
   "outputs": [
    {
     "data": {
      "text/plain": [
       "25"
      ]
     },
     "execution_count": 6,
     "metadata": {},
     "output_type": "execute_result"
    }
   ],
   "source": [
    "len(price_lst)"
   ]
  },
  {
   "cell_type": "markdown",
   "id": "4322ac2b",
   "metadata": {},
   "source": [
    "## Location"
   ]
  },
  {
   "cell_type": "code",
   "execution_count": 7,
   "id": "9b47639e",
   "metadata": {},
   "outputs": [],
   "source": [
    "locations = driver.find_elements(By.CLASS_NAME, '_162e6469')"
   ]
  },
  {
   "cell_type": "code",
   "execution_count": 8,
   "id": "ef227a06",
   "metadata": {},
   "outputs": [],
   "source": [
    "location_lst = []\n",
    "for i in locations:\n",
    "    location_lst.append(i.text)"
   ]
  },
  {
   "cell_type": "code",
   "execution_count": 9,
   "id": "d6043cd1",
   "metadata": {},
   "outputs": [
    {
     "data": {
      "text/plain": [
       "['Gulshan-e-Iqbal, Gulshan-e-Iqbal Town',\n",
       " 'Gulshan-e-Iqbal - Block 7, Gulshan-e-Iqbal',\n",
       " 'Gulshan-e-Iqbal - Block 10-A, Gulshan-e-Iqbal',\n",
       " 'Gulshan-e-Jamal, Gulshan-e-Iqbal Town',\n",
       " 'Gulshan-e-Iqbal - Block 11, Gulshan-e-Iqbal',\n",
       " 'Bahadurabad, Gulshan-e-Iqbal Town',\n",
       " 'Sharfabad, Gulshan-e-Iqbal Town',\n",
       " 'Gulshan-e-Iqbal - Block 13/D-2, Gulshan-e-Iqbal',\n",
       " 'Gulshan-e-Iqbal - Block 13/D-2, Gulshan-e-Iqbal',\n",
       " 'Gulshan-e-Iqbal - Block 4A, Gulshan-e-Iqbal',\n",
       " 'Gulshan-e-Iqbal Town, Karachi',\n",
       " 'Gulshan-e-Iqbal - Block 7, Gulshan-e-Iqbal',\n",
       " 'Sharfabad, Gulshan-e-Iqbal Town',\n",
       " 'Gulshan-e-Iqbal - Block 13/D-2, Gulshan-e-Iqbal',\n",
       " 'Gulshan-e-Iqbal - Block 16, Gulshan-e-Iqbal',\n",
       " 'Gulshan-e-Jamal, Gulshan-e-Iqbal Town',\n",
       " 'Gulshan-e-Jamal, Gulshan-e-Iqbal Town',\n",
       " 'Gulshan-e-Iqbal - Block 2, Gulshan-e-Iqbal',\n",
       " 'Gulshan-e-Iqbal - Block 10-A, Gulshan-e-Iqbal',\n",
       " 'Dhoraji Colony, Gulshan-e-Iqbal Town',\n",
       " 'Mohammad Ali Society, Gulshan-e-Iqbal Town',\n",
       " 'Alamgir Road, Gulshan-e-Iqbal Town',\n",
       " 'Sharfabad, Gulshan-e-Iqbal Town',\n",
       " 'Gulshan-e-Iqbal - Block 4, Gulshan-e-Iqbal',\n",
       " 'Gulshan-e-Iqbal - Block 5, Gulshan-e-Iqbal']"
      ]
     },
     "execution_count": 9,
     "metadata": {},
     "output_type": "execute_result"
    }
   ],
   "source": [
    "location_lst"
   ]
  },
  {
   "cell_type": "code",
   "execution_count": 10,
   "id": "79f9966e",
   "metadata": {},
   "outputs": [
    {
     "data": {
      "text/plain": [
       "25"
      ]
     },
     "execution_count": 10,
     "metadata": {},
     "output_type": "execute_result"
    }
   ],
   "source": [
    "len(location_lst)"
   ]
  },
  {
   "cell_type": "markdown",
   "id": "65f619ba",
   "metadata": {},
   "source": [
    "## Listing Time"
   ]
  },
  {
   "cell_type": "code",
   "execution_count": 11,
   "id": "e93f4d6b",
   "metadata": {},
   "outputs": [],
   "source": [
    "listing = driver.find_elements(By.CLASS_NAME, '_08b01580')"
   ]
  },
  {
   "cell_type": "code",
   "execution_count": 12,
   "id": "e3a62f19",
   "metadata": {},
   "outputs": [],
   "source": [
    "listed_at = []\n",
    "\n",
    "for i in listing:\n",
    "    listed_at.append(i.text.replace('\\n', \" \"))"
   ]
  },
  {
   "cell_type": "code",
   "execution_count": 13,
   "id": "1deab9dd",
   "metadata": {},
   "outputs": [
    {
     "data": {
      "text/plain": [
       "['Added: 20 hours ago (Updated: 20 hours ago)',\n",
       " 'Added: 1 week ago',\n",
       " 'Added: 1 week ago',\n",
       " 'Added: 11 hours ago',\n",
       " 'Added: 20 hours ago',\n",
       " 'Added: 23 hours ago',\n",
       " 'Added: 23 hours ago',\n",
       " 'Added: 1 day ago',\n",
       " 'Added: 1 day ago',\n",
       " 'Added: 2 days ago',\n",
       " 'Added: 20 hours ago (Updated: 20 hours ago)',\n",
       " 'Added: 4 days ago',\n",
       " 'Added: 10 hours ago',\n",
       " 'Added: 11 hours ago',\n",
       " 'Added: 11 hours ago',\n",
       " 'Added: 11 hours ago',\n",
       " 'Added: 11 hours ago',\n",
       " 'Added: 6 minutes ago',\n",
       " 'Added: 6 minutes ago',\n",
       " 'Added: 5 hours ago',\n",
       " 'Added: 5 hours ago',\n",
       " 'Added: 5 hours ago',\n",
       " 'Added: 10 hours ago (Updated: 10 hours ago)',\n",
       " 'Added: 13 hours ago',\n",
       " 'Added: 13 hours ago']"
      ]
     },
     "execution_count": 13,
     "metadata": {},
     "output_type": "execute_result"
    }
   ],
   "source": [
    "listed_at"
   ]
  },
  {
   "cell_type": "code",
   "execution_count": 14,
   "id": "b736b414",
   "metadata": {},
   "outputs": [
    {
     "data": {
      "text/plain": [
       "25"
      ]
     },
     "execution_count": 14,
     "metadata": {},
     "output_type": "execute_result"
    }
   ],
   "source": [
    "len(listed_at)"
   ]
  },
  {
   "cell_type": "markdown",
   "id": "e12b665d",
   "metadata": {},
   "source": [
    "## Images"
   ]
  },
  {
   "cell_type": "code",
   "execution_count": 15,
   "id": "8ffb65f3",
   "metadata": {},
   "outputs": [],
   "source": [
    "properties = driver.find_elements(By.XPATH, '//li[@role = \"article\"]')"
   ]
  },
  {
   "cell_type": "code",
   "execution_count": 16,
   "id": "1490571e",
   "metadata": {},
   "outputs": [],
   "source": [
    "imgs_lst = []\n",
    "for i in properties:\n",
    "    temp = i.find_element(By.CLASS_NAME, '_150e2e12').find_element(By.TAG_NAME, 'source').get_attribute(\"srcset\")\n",
    "    if temp == '':\n",
    "        temp = i.find_element(By.CLASS_NAME, '_150e2e12').find_element(By.TAG_NAME, 'source').get_attribute(\"data-srcset\")\n",
    "    imgs_lst.append(temp)"
   ]
  },
  {
   "cell_type": "code",
   "execution_count": 17,
   "id": "4bf1a0de",
   "metadata": {},
   "outputs": [
    {
     "data": {
      "text/plain": [
       "['https://media.zameen.com/thumbnails/203549197-400x300.webp',\n",
       " 'https://media.zameen.com/thumbnails/202569126-400x300.webp',\n",
       " 'https://media.zameen.com/thumbnails/202307331-400x300.webp',\n",
       " 'https://media.zameen.com/thumbnails/195808768-400x300.webp',\n",
       " 'https://media.zameen.com/thumbnails/203043826-400x300.webp',\n",
       " 'https://media.zameen.com/thumbnails/196707080-400x300.webp',\n",
       " 'https://media.zameen.com/thumbnails/196838977-400x300.webp',\n",
       " 'https://media.zameen.com/thumbnails/203373868-400x300.webp',\n",
       " 'https://media.zameen.com/thumbnails/203372315-400x300.webp',\n",
       " 'https://media.zameen.com/thumbnails/199908785-400x300.webp',\n",
       " 'https://media.zameen.com/thumbnails/203542566-400x300.webp',\n",
       " 'https://media.zameen.com/thumbnails/187975848-400x300.webp',\n",
       " 'https://media.zameen.com/thumbnails/203498196-400x300.webp',\n",
       " 'https://media.zameen.com/thumbnails/187895826-400x300.webp',\n",
       " 'https://media.zameen.com/thumbnails/201180151-400x300.webp',\n",
       " 'https://media.zameen.com/thumbnails/195892568-400x300.webp',\n",
       " 'https://media.zameen.com/thumbnails/195489070-400x300.webp',\n",
       " 'https://media.zameen.com/thumbnails/191990562-400x300.webp',\n",
       " 'https://media.zameen.com/thumbnails/190906266-400x300.webp',\n",
       " 'https://media.zameen.com/thumbnails/194041580-400x300.webp',\n",
       " 'https://media.zameen.com/thumbnails/190870700-400x300.webp',\n",
       " 'https://media.zameen.com/thumbnails/188287211-400x300.webp',\n",
       " 'https://media.zameen.com/thumbnails/203628193-400x300.webp',\n",
       " 'https://media.zameen.com/thumbnails/142626548-400x300.webp',\n",
       " 'https://media.zameen.com/thumbnails/148879360-400x300.webp']"
      ]
     },
     "execution_count": 17,
     "metadata": {},
     "output_type": "execute_result"
    }
   ],
   "source": [
    "imgs_lst"
   ]
  },
  {
   "cell_type": "code",
   "execution_count": 18,
   "id": "5d9f58a2",
   "metadata": {},
   "outputs": [
    {
     "data": {
      "text/plain": [
       "25"
      ]
     },
     "execution_count": 18,
     "metadata": {},
     "output_type": "execute_result"
    }
   ],
   "source": [
    "len(imgs_lst)"
   ]
  },
  {
   "cell_type": "markdown",
   "id": "175364a2",
   "metadata": {},
   "source": [
    "## Badges"
   ]
  },
  {
   "cell_type": "code",
   "execution_count": 19,
   "id": "a8f5c3ac",
   "metadata": {},
   "outputs": [],
   "source": [
    "div_badges = driver.find_elements(By.CLASS_NAME, 'b75fc1d9')\n",
    "# n = 1\n",
    "badges_lst = []\n",
    "for i in div_badges:\n",
    "    badges = i.find_elements(By.CLASS_NAME, '_38842953')\n",
    "    temp = []\n",
    "    for j in badges:\n",
    "        temp.append(j.find_element(By.TAG_NAME, 'svg').get_attribute('aria-label'))\n",
    "    badges_lst.append(temp)"
   ]
  },
  {
   "cell_type": "code",
   "execution_count": 20,
   "id": "da1562e5",
   "metadata": {},
   "outputs": [],
   "source": [
    "for i in badges_lst:\n",
    "    try:\n",
    "        if i[0] == None:\n",
    "            i[0] = 'Hot badge'\n",
    "    except:\n",
    "        i.append('No badges')"
   ]
  },
  {
   "cell_type": "code",
   "execution_count": 21,
   "id": "77795507",
   "metadata": {},
   "outputs": [
    {
     "data": {
      "text/plain": [
       "[['Hot badge', 'Trusted badge'],\n",
       " ['Hot badge', 'Trusted badge', 'Verified badge'],\n",
       " ['Hot badge', 'Trusted badge', 'Verified badge'],\n",
       " ['Hot badge'],\n",
       " ['Hot badge', 'Verified badge'],\n",
       " ['Hot badge', 'Trusted badge', 'Verified badge'],\n",
       " ['Hot badge', 'Trusted badge', 'Verified badge'],\n",
       " ['Hot badge', 'Verified badge'],\n",
       " ['Hot badge', 'Verified badge'],\n",
       " ['Hot badge', 'Verified badge'],\n",
       " ['Hot badge', 'Trusted badge'],\n",
       " ['Hot badge', 'Trusted badge'],\n",
       " ['Hot badge'],\n",
       " ['Hot badge'],\n",
       " ['Hot badge', 'Verified badge'],\n",
       " ['Hot badge'],\n",
       " ['Hot badge'],\n",
       " ['No badges'],\n",
       " ['No badges'],\n",
       " ['No badges'],\n",
       " ['No badges'],\n",
       " ['No badges'],\n",
       " ['No badges'],\n",
       " ['No badges'],\n",
       " ['No badges']]"
      ]
     },
     "execution_count": 21,
     "metadata": {},
     "output_type": "execute_result"
    }
   ],
   "source": [
    "badges_lst"
   ]
  },
  {
   "cell_type": "code",
   "execution_count": 22,
   "id": "01d451b5",
   "metadata": {},
   "outputs": [
    {
     "data": {
      "text/plain": [
       "25"
      ]
     },
     "execution_count": 22,
     "metadata": {},
     "output_type": "execute_result"
    }
   ],
   "source": [
    "len(badges_lst)"
   ]
  },
  {
   "cell_type": "markdown",
   "id": "df43f249",
   "metadata": {},
   "source": [
    "## Title"
   ]
  },
  {
   "cell_type": "code",
   "execution_count": 23,
   "id": "05408394",
   "metadata": {},
   "outputs": [],
   "source": [
    "titles = driver.find_elements(By.CLASS_NAME, 'c0df3811')\n",
    "title_lst = []\n",
    "for i in titles:\n",
    "    title_lst.append(i.text)"
   ]
  },
  {
   "cell_type": "code",
   "execution_count": 24,
   "id": "ad39e7b3",
   "metadata": {},
   "outputs": [
    {
     "data": {
      "text/plain": [
       "['250 Sqyds Villa Is Available On Easy Installments',\n",
       " '3 Bed D D Al Hamra Garden Bock 7 Gulshan-e-iqbal Near Sunday Bazar',\n",
       " 'A Prime Location 1170 Square Feet Flat Has Landed On Market In Gulshan-e-Iqbal - Block 10-A Of Karachi',\n",
       " '300 yards Double Story Corner Bungalow for Sale',\n",
       " 'Corner 1830 Square Feet Flat For sale Is Available In Gulshan-e-Iqbal - Block 11',\n",
       " 'Brand New Portion Available For Sale',\n",
       " 'Portion Available For Sale Near 4 Minar Chowrangi',\n",
       " '3 Bed D/D Fully Renovated Apartment',\n",
       " '2 Bed Fully Renovated Apartment',\n",
       " 'A Perfect Prime Location Flat Awaits You In Gulshan-e-Iqbal - Block 4A Karachi',\n",
       " '250 Sqyds Villa Is Available On Easy Installments',\n",
       " 'Gulshan Vip Block 7 3 Bed D/d West Open Flat For Sale',\n",
       " 'Flat #104, Apple Garden 1st Floor Located Opposite Sharfabad School',\n",
       " 'A Flat Of 1200 Square Feet In Karachi',\n",
       " '1300 Square Feet Flat In Gulshan-e-Iqbal - Block 16 For sale At Good Location',\n",
       " 'Buying A House In Gulshan-e-Jamal Karachi?',\n",
       " 'Tripple Storey 300 Square Yards House For sale In Gulshan-e-Jamal Karachi',\n",
       " 'Saima Royal Residency 3 Bed With Rooftop',\n",
       " 'Saima Square One 3 Bed DD Flat For Sale',\n",
       " 'Flat Available For Sale',\n",
       " 'Townhouse Available For Sale',\n",
       " 'Flat Available For Sale',\n",
       " 'Newly Constructed 3 Bed DD 1 Floor Portion for Sale in Sharfabad',\n",
       " 'Architecture Design Corner One Unit Bungalow For Sale In Gulshan-e-iqbal',\n",
       " 'Full Renovated Bungalow For Sale On Main Sir Syed University Road']"
      ]
     },
     "execution_count": 24,
     "metadata": {},
     "output_type": "execute_result"
    }
   ],
   "source": [
    "title_lst"
   ]
  },
  {
   "cell_type": "code",
   "execution_count": 25,
   "id": "36eeac6c",
   "metadata": {},
   "outputs": [
    {
     "data": {
      "text/plain": [
       "25"
      ]
     },
     "execution_count": 25,
     "metadata": {},
     "output_type": "execute_result"
    }
   ],
   "source": [
    "len(title_lst)"
   ]
  },
  {
   "cell_type": "markdown",
   "id": "9ea9f057",
   "metadata": {},
   "source": [
    "## Beds, Baths & Area"
   ]
  },
  {
   "cell_type": "code",
   "execution_count": 26,
   "id": "b03d1190",
   "metadata": {},
   "outputs": [],
   "source": [
    "divs_BB = driver.find_elements(By.CLASS_NAME, '_27f6c93d')"
   ]
  },
  {
   "cell_type": "code",
   "execution_count": 27,
   "id": "5572ccce",
   "metadata": {},
   "outputs": [],
   "source": [
    "bed_count = []\n",
    "bath_count = []\n",
    "area = []\n",
    "for i in divs_BB:\n",
    "    temp = i.find_elements(By.CLASS_NAME, '_984949e5')\n",
    "    for j in temp:\n",
    "#         print(j.get_attribute('aria-label'),':', j.text)\n",
    "        if j.get_attribute('aria-label') == \"Beds\":\n",
    "            bed_count.append(j.text)\n",
    "        elif j.get_attribute('aria-label') == \"Baths\":\n",
    "            bath_count.append(j.text)\n",
    "        elif j.get_attribute('aria-label') == \"Area\":\n",
    "            area.append(j.text)\n",
    "    if len(bed_count) == len(area)-1:\n",
    "        bed_count.append('NA')\n",
    "    if len(bath_count) == len(area)-1:\n",
    "        bath_count.append('NA')"
   ]
  },
  {
   "cell_type": "code",
   "execution_count": 28,
   "id": "cce4c507",
   "metadata": {},
   "outputs": [
    {
     "data": {
      "text/plain": [
       "25"
      ]
     },
     "execution_count": 28,
     "metadata": {},
     "output_type": "execute_result"
    }
   ],
   "source": [
    "len(area)"
   ]
  },
  {
   "cell_type": "code",
   "execution_count": 29,
   "id": "4f043f9a",
   "metadata": {},
   "outputs": [
    {
     "data": {
      "text/plain": [
       "25"
      ]
     },
     "execution_count": 29,
     "metadata": {},
     "output_type": "execute_result"
    }
   ],
   "source": [
    "len(bath_count)"
   ]
  },
  {
   "cell_type": "code",
   "execution_count": 30,
   "id": "d1c65d1a",
   "metadata": {},
   "outputs": [
    {
     "data": {
      "text/plain": [
       "25"
      ]
     },
     "execution_count": 30,
     "metadata": {},
     "output_type": "execute_result"
    }
   ],
   "source": [
    "len(bed_count)"
   ]
  },
  {
   "cell_type": "markdown",
   "id": "6bdd1b61",
   "metadata": {},
   "source": [
    "## Making DataFrame"
   ]
  },
  {
   "cell_type": "code",
   "execution_count": 31,
   "id": "481713d4",
   "metadata": {},
   "outputs": [],
   "source": [
    "import pandas as pd"
   ]
  },
  {
   "cell_type": "code",
   "execution_count": 59,
   "id": "a5dcb6dc",
   "metadata": {},
   "outputs": [],
   "source": [
    "df = pd.DataFrame(data = {'Title': title_lst ,'Price': price_lst, 'Location': location_lst, 'Bed': bed_count, 'Bath': bath_count, 'Area': area, 'Badges': badges_lst, 'Listing Time': listed_at, 'Thumbnail': imgs_lst})"
   ]
  },
  {
   "cell_type": "code",
   "execution_count": 47,
   "id": "17dbae29",
   "metadata": {},
   "outputs": [
    {
     "data": {
      "text/html": [
       "<div>\n",
       "<style scoped>\n",
       "    .dataframe tbody tr th:only-of-type {\n",
       "        vertical-align: middle;\n",
       "    }\n",
       "\n",
       "    .dataframe tbody tr th {\n",
       "        vertical-align: top;\n",
       "    }\n",
       "\n",
       "    .dataframe thead th {\n",
       "        text-align: right;\n",
       "    }\n",
       "</style>\n",
       "<table border=\"1\" class=\"dataframe\">\n",
       "  <thead>\n",
       "    <tr style=\"text-align: right;\">\n",
       "      <th></th>\n",
       "      <th>Title</th>\n",
       "      <th>Price</th>\n",
       "      <th>Location</th>\n",
       "      <th>Bed</th>\n",
       "      <th>Bath</th>\n",
       "      <th>Area</th>\n",
       "      <th>Badges</th>\n",
       "      <th>Listing Time</th>\n",
       "      <th>Thumbnail</th>\n",
       "    </tr>\n",
       "  </thead>\n",
       "  <tbody>\n",
       "    <tr>\n",
       "      <th>0</th>\n",
       "      <td>250 Sqyds Villa Is Available On Easy Installments</td>\n",
       "      <td>2.9 Crore</td>\n",
       "      <td>Gulshan-e-Iqbal, Gulshan-e-Iqbal Town</td>\n",
       "      <td>4</td>\n",
       "      <td>4</td>\n",
       "      <td>250 Sq. Yd.</td>\n",
       "      <td>[Hot badge, Trusted badge]</td>\n",
       "      <td>Added: 20 hours ago (Updated: 20 hours ago)</td>\n",
       "      <td>https://media.zameen.com/thumbnails/203549197-...</td>\n",
       "    </tr>\n",
       "    <tr>\n",
       "      <th>1</th>\n",
       "      <td>3 Bed D D Al Hamra Garden Bock 7 Gulshan-e-iqb...</td>\n",
       "      <td>1.2 Crore</td>\n",
       "      <td>Gulshan-e-Iqbal - Block 7, Gulshan-e-Iqbal</td>\n",
       "      <td>3</td>\n",
       "      <td>3</td>\n",
       "      <td>150 Sq. Yd.</td>\n",
       "      <td>[Hot badge, Trusted badge, Verified badge]</td>\n",
       "      <td>Added: 1 week ago</td>\n",
       "      <td>https://media.zameen.com/thumbnails/202569126-...</td>\n",
       "    </tr>\n",
       "    <tr>\n",
       "      <th>2</th>\n",
       "      <td>A Prime Location 1170 Square Feet Flat Has Lan...</td>\n",
       "      <td>1.4 Crore</td>\n",
       "      <td>Gulshan-e-Iqbal - Block 10-A, Gulshan-e-Iqbal</td>\n",
       "      <td>3</td>\n",
       "      <td>3</td>\n",
       "      <td>130 Sq. Yd.</td>\n",
       "      <td>[Hot badge, Trusted badge, Verified badge]</td>\n",
       "      <td>Added: 1 week ago</td>\n",
       "      <td>https://media.zameen.com/thumbnails/202307331-...</td>\n",
       "    </tr>\n",
       "    <tr>\n",
       "      <th>3</th>\n",
       "      <td>300 yards Double Story Corner Bungalow for Sale</td>\n",
       "      <td>6 Crore</td>\n",
       "      <td>Gulshan-e-Jamal, Gulshan-e-Iqbal Town</td>\n",
       "      <td>8</td>\n",
       "      <td>6</td>\n",
       "      <td>325 Sq. Yd.</td>\n",
       "      <td>[Hot badge]</td>\n",
       "      <td>Added: 11 hours ago</td>\n",
       "      <td>https://media.zameen.com/thumbnails/195808768-...</td>\n",
       "    </tr>\n",
       "    <tr>\n",
       "      <th>4</th>\n",
       "      <td>Corner 1830 Square Feet Flat For sale Is Avail...</td>\n",
       "      <td>1.4 Crore</td>\n",
       "      <td>Gulshan-e-Iqbal - Block 11, Gulshan-e-Iqbal</td>\n",
       "      <td>NA</td>\n",
       "      <td>NA</td>\n",
       "      <td>203 Sq. Yd.</td>\n",
       "      <td>[Hot badge, Verified badge]</td>\n",
       "      <td>Added: 20 hours ago</td>\n",
       "      <td>https://media.zameen.com/thumbnails/203043826-...</td>\n",
       "    </tr>\n",
       "    <tr>\n",
       "      <th>5</th>\n",
       "      <td>Brand New Portion Available For Sale</td>\n",
       "      <td>4.25 Crore</td>\n",
       "      <td>Bahadurabad, Gulshan-e-Iqbal Town</td>\n",
       "      <td>4</td>\n",
       "      <td>4</td>\n",
       "      <td>244 Sq. Yd.</td>\n",
       "      <td>[Hot badge, Trusted badge, Verified badge]</td>\n",
       "      <td>Added: 23 hours ago</td>\n",
       "      <td>https://media.zameen.com/thumbnails/196707080-...</td>\n",
       "    </tr>\n",
       "    <tr>\n",
       "      <th>6</th>\n",
       "      <td>Portion Available For Sale Near 4 Minar Chowrangi</td>\n",
       "      <td>4.2 Crore</td>\n",
       "      <td>Sharfabad, Gulshan-e-Iqbal Town</td>\n",
       "      <td>5</td>\n",
       "      <td>6</td>\n",
       "      <td>267 Sq. Yd.</td>\n",
       "      <td>[Hot badge, Trusted badge, Verified badge]</td>\n",
       "      <td>Added: 23 hours ago</td>\n",
       "      <td>https://media.zameen.com/thumbnails/196838977-...</td>\n",
       "    </tr>\n",
       "    <tr>\n",
       "      <th>7</th>\n",
       "      <td>3 Bed D/D Fully Renovated Apartment</td>\n",
       "      <td>1.1 Crore</td>\n",
       "      <td>Gulshan-e-Iqbal - Block 13/D-2, Gulshan-e-Iqbal</td>\n",
       "      <td>3</td>\n",
       "      <td>3</td>\n",
       "      <td>139 Sq. Yd.</td>\n",
       "      <td>[Hot badge, Verified badge]</td>\n",
       "      <td>Added: 1 day ago</td>\n",
       "      <td>https://media.zameen.com/thumbnails/203373868-...</td>\n",
       "    </tr>\n",
       "    <tr>\n",
       "      <th>8</th>\n",
       "      <td>2 Bed Fully Renovated Apartment</td>\n",
       "      <td>65 Lakh</td>\n",
       "      <td>Gulshan-e-Iqbal - Block 13/D-2, Gulshan-e-Iqbal</td>\n",
       "      <td>2</td>\n",
       "      <td>2</td>\n",
       "      <td>83 Sq. Yd.</td>\n",
       "      <td>[Hot badge, Verified badge]</td>\n",
       "      <td>Added: 1 day ago</td>\n",
       "      <td>https://media.zameen.com/thumbnails/203372315-...</td>\n",
       "    </tr>\n",
       "    <tr>\n",
       "      <th>9</th>\n",
       "      <td>A Perfect Prime Location Flat Awaits You In Gu...</td>\n",
       "      <td>1.95 Crore</td>\n",
       "      <td>Gulshan-e-Iqbal - Block 4A, Gulshan-e-Iqbal</td>\n",
       "      <td>NA</td>\n",
       "      <td>NA</td>\n",
       "      <td>167 Sq. Yd.</td>\n",
       "      <td>[Hot badge, Verified badge]</td>\n",
       "      <td>Added: 2 days ago</td>\n",
       "      <td>https://media.zameen.com/thumbnails/199908785-...</td>\n",
       "    </tr>\n",
       "    <tr>\n",
       "      <th>10</th>\n",
       "      <td>250 Sqyds Villa Is Available On Easy Installments</td>\n",
       "      <td>2.9 Crore</td>\n",
       "      <td>Gulshan-e-Iqbal Town, Karachi</td>\n",
       "      <td>4</td>\n",
       "      <td>4</td>\n",
       "      <td>250 Sq. Yd.</td>\n",
       "      <td>[Hot badge, Trusted badge]</td>\n",
       "      <td>Added: 20 hours ago (Updated: 20 hours ago)</td>\n",
       "      <td>https://media.zameen.com/thumbnails/203542566-...</td>\n",
       "    </tr>\n",
       "    <tr>\n",
       "      <th>11</th>\n",
       "      <td>Gulshan Vip Block 7 3 Bed D/d West Open Flat F...</td>\n",
       "      <td>1.25 Crore</td>\n",
       "      <td>Gulshan-e-Iqbal - Block 7, Gulshan-e-Iqbal</td>\n",
       "      <td>3</td>\n",
       "      <td>3</td>\n",
       "      <td>144 Sq. Yd.</td>\n",
       "      <td>[Hot badge, Trusted badge]</td>\n",
       "      <td>Added: 4 days ago</td>\n",
       "      <td>https://media.zameen.com/thumbnails/187975848-...</td>\n",
       "    </tr>\n",
       "    <tr>\n",
       "      <th>12</th>\n",
       "      <td>Flat #104, Apple Garden 1st Floor Located Oppo...</td>\n",
       "      <td>2.25 Crore</td>\n",
       "      <td>Sharfabad, Gulshan-e-Iqbal Town</td>\n",
       "      <td>3</td>\n",
       "      <td>3</td>\n",
       "      <td>183 Sq. Yd.</td>\n",
       "      <td>[Hot badge]</td>\n",
       "      <td>Added: 10 hours ago</td>\n",
       "      <td>https://media.zameen.com/thumbnails/203498196-...</td>\n",
       "    </tr>\n",
       "    <tr>\n",
       "      <th>13</th>\n",
       "      <td>A Flat Of 1200 Square Feet In Karachi</td>\n",
       "      <td>1.05 Crore</td>\n",
       "      <td>Gulshan-e-Iqbal - Block 13/D-2, Gulshan-e-Iqbal</td>\n",
       "      <td>3</td>\n",
       "      <td>3</td>\n",
       "      <td>133 Sq. Yd.</td>\n",
       "      <td>[Hot badge]</td>\n",
       "      <td>Added: 11 hours ago</td>\n",
       "      <td>https://media.zameen.com/thumbnails/187895826-...</td>\n",
       "    </tr>\n",
       "    <tr>\n",
       "      <th>14</th>\n",
       "      <td>1300 Square Feet Flat In Gulshan-e-Iqbal - Blo...</td>\n",
       "      <td>1.75 Crore</td>\n",
       "      <td>Gulshan-e-Iqbal - Block 16, Gulshan-e-Iqbal</td>\n",
       "      <td>3</td>\n",
       "      <td>3</td>\n",
       "      <td>144 Sq. Yd.</td>\n",
       "      <td>[Hot badge, Verified badge]</td>\n",
       "      <td>Added: 11 hours ago</td>\n",
       "      <td>https://media.zameen.com/thumbnails/201180151-...</td>\n",
       "    </tr>\n",
       "    <tr>\n",
       "      <th>15</th>\n",
       "      <td>Buying A House In Gulshan-e-Jamal Karachi?</td>\n",
       "      <td>9.35 Crore</td>\n",
       "      <td>Gulshan-e-Jamal, Gulshan-e-Iqbal Town</td>\n",
       "      <td>5</td>\n",
       "      <td>6</td>\n",
       "      <td>500 Sq. Yd.</td>\n",
       "      <td>[Hot badge]</td>\n",
       "      <td>Added: 11 hours ago</td>\n",
       "      <td>https://media.zameen.com/thumbnails/195892568-...</td>\n",
       "    </tr>\n",
       "    <tr>\n",
       "      <th>16</th>\n",
       "      <td>Tripple Storey 300 Square Yards House For sale...</td>\n",
       "      <td>6.75 Crore</td>\n",
       "      <td>Gulshan-e-Jamal, Gulshan-e-Iqbal Town</td>\n",
       "      <td>9</td>\n",
       "      <td>6</td>\n",
       "      <td>300 Sq. Yd.</td>\n",
       "      <td>[Hot badge]</td>\n",
       "      <td>Added: 11 hours ago</td>\n",
       "      <td>https://media.zameen.com/thumbnails/195489070-...</td>\n",
       "    </tr>\n",
       "    <tr>\n",
       "      <th>17</th>\n",
       "      <td>Saima Royal Residency 3 Bed With Rooftop</td>\n",
       "      <td>2.25 Crore</td>\n",
       "      <td>Gulshan-e-Iqbal - Block 2, Gulshan-e-Iqbal</td>\n",
       "      <td>3</td>\n",
       "      <td>4</td>\n",
       "      <td>189 Sq. Yd.</td>\n",
       "      <td>[No badges]</td>\n",
       "      <td>Added: 6 minutes ago</td>\n",
       "      <td>https://media.zameen.com/thumbnails/191990562-...</td>\n",
       "    </tr>\n",
       "    <tr>\n",
       "      <th>18</th>\n",
       "      <td>Saima Square One 3 Bed DD Flat For Sale</td>\n",
       "      <td>3.5 Crore</td>\n",
       "      <td>Gulshan-e-Iqbal - Block 10-A, Gulshan-e-Iqbal</td>\n",
       "      <td>3</td>\n",
       "      <td>4</td>\n",
       "      <td>267 Sq. Yd.</td>\n",
       "      <td>[No badges]</td>\n",
       "      <td>Added: 6 minutes ago</td>\n",
       "      <td>https://media.zameen.com/thumbnails/190906266-...</td>\n",
       "    </tr>\n",
       "    <tr>\n",
       "      <th>19</th>\n",
       "      <td>Flat Available For Sale</td>\n",
       "      <td>2.7 Crore</td>\n",
       "      <td>Dhoraji Colony, Gulshan-e-Iqbal Town</td>\n",
       "      <td>6</td>\n",
       "      <td>6</td>\n",
       "      <td>333 Sq. Yd.</td>\n",
       "      <td>[No badges]</td>\n",
       "      <td>Added: 5 hours ago</td>\n",
       "      <td>https://media.zameen.com/thumbnails/194041580-...</td>\n",
       "    </tr>\n",
       "    <tr>\n",
       "      <th>20</th>\n",
       "      <td>Townhouse Available For Sale</td>\n",
       "      <td>8.5 Crore</td>\n",
       "      <td>Mohammad Ali Society, Gulshan-e-Iqbal Town</td>\n",
       "      <td>5</td>\n",
       "      <td>6</td>\n",
       "      <td>225 Sq. Yd.</td>\n",
       "      <td>[No badges]</td>\n",
       "      <td>Added: 5 hours ago</td>\n",
       "      <td>https://media.zameen.com/thumbnails/190870700-...</td>\n",
       "    </tr>\n",
       "    <tr>\n",
       "      <th>21</th>\n",
       "      <td>Flat Available For Sale</td>\n",
       "      <td>4.5 Crore</td>\n",
       "      <td>Alamgir Road, Gulshan-e-Iqbal Town</td>\n",
       "      <td>3</td>\n",
       "      <td>4</td>\n",
       "      <td>222 Sq. Yd.</td>\n",
       "      <td>[No badges]</td>\n",
       "      <td>Added: 5 hours ago</td>\n",
       "      <td>https://media.zameen.com/thumbnails/188287211-...</td>\n",
       "    </tr>\n",
       "    <tr>\n",
       "      <th>22</th>\n",
       "      <td>Newly Constructed 3 Bed DD 1 Floor Portion for...</td>\n",
       "      <td>3 Crore</td>\n",
       "      <td>Sharfabad, Gulshan-e-Iqbal Town</td>\n",
       "      <td>3</td>\n",
       "      <td>3</td>\n",
       "      <td>200 Sq. Yd.</td>\n",
       "      <td>[No badges]</td>\n",
       "      <td>Added: 10 hours ago (Updated: 10 hours ago)</td>\n",
       "      <td>https://media.zameen.com/thumbnails/203628193-...</td>\n",
       "    </tr>\n",
       "    <tr>\n",
       "      <th>23</th>\n",
       "      <td>Architecture Design Corner One Unit Bungalow F...</td>\n",
       "      <td>6.6 Crore</td>\n",
       "      <td>Gulshan-e-Iqbal - Block 4, Gulshan-e-Iqbal</td>\n",
       "      <td>5</td>\n",
       "      <td>5</td>\n",
       "      <td>390 Sq. Yd.</td>\n",
       "      <td>[No badges]</td>\n",
       "      <td>Added: 13 hours ago</td>\n",
       "      <td>https://media.zameen.com/thumbnails/142626548-...</td>\n",
       "    </tr>\n",
       "    <tr>\n",
       "      <th>24</th>\n",
       "      <td>Full Renovated Bungalow For Sale On Main Sir S...</td>\n",
       "      <td>6.25 Crore</td>\n",
       "      <td>Gulshan-e-Iqbal - Block 5, Gulshan-e-Iqbal</td>\n",
       "      <td>6</td>\n",
       "      <td>6</td>\n",
       "      <td>240 Sq. Yd.</td>\n",
       "      <td>[No badges]</td>\n",
       "      <td>Added: 13 hours ago</td>\n",
       "      <td>https://media.zameen.com/thumbnails/148879360-...</td>\n",
       "    </tr>\n",
       "  </tbody>\n",
       "</table>\n",
       "</div>"
      ],
      "text/plain": [
       "                                                Title       Price  \\\n",
       "0   250 Sqyds Villa Is Available On Easy Installments   2.9 Crore   \n",
       "1   3 Bed D D Al Hamra Garden Bock 7 Gulshan-e-iqb...   1.2 Crore   \n",
       "2   A Prime Location 1170 Square Feet Flat Has Lan...   1.4 Crore   \n",
       "3     300 yards Double Story Corner Bungalow for Sale     6 Crore   \n",
       "4   Corner 1830 Square Feet Flat For sale Is Avail...   1.4 Crore   \n",
       "5                Brand New Portion Available For Sale  4.25 Crore   \n",
       "6   Portion Available For Sale Near 4 Minar Chowrangi   4.2 Crore   \n",
       "7                 3 Bed D/D Fully Renovated Apartment   1.1 Crore   \n",
       "8                     2 Bed Fully Renovated Apartment     65 Lakh   \n",
       "9   A Perfect Prime Location Flat Awaits You In Gu...  1.95 Crore   \n",
       "10  250 Sqyds Villa Is Available On Easy Installments   2.9 Crore   \n",
       "11  Gulshan Vip Block 7 3 Bed D/d West Open Flat F...  1.25 Crore   \n",
       "12  Flat #104, Apple Garden 1st Floor Located Oppo...  2.25 Crore   \n",
       "13              A Flat Of 1200 Square Feet In Karachi  1.05 Crore   \n",
       "14  1300 Square Feet Flat In Gulshan-e-Iqbal - Blo...  1.75 Crore   \n",
       "15         Buying A House In Gulshan-e-Jamal Karachi?  9.35 Crore   \n",
       "16  Tripple Storey 300 Square Yards House For sale...  6.75 Crore   \n",
       "17           Saima Royal Residency 3 Bed With Rooftop  2.25 Crore   \n",
       "18            Saima Square One 3 Bed DD Flat For Sale   3.5 Crore   \n",
       "19                            Flat Available For Sale   2.7 Crore   \n",
       "20                       Townhouse Available For Sale   8.5 Crore   \n",
       "21                            Flat Available For Sale   4.5 Crore   \n",
       "22  Newly Constructed 3 Bed DD 1 Floor Portion for...     3 Crore   \n",
       "23  Architecture Design Corner One Unit Bungalow F...   6.6 Crore   \n",
       "24  Full Renovated Bungalow For Sale On Main Sir S...  6.25 Crore   \n",
       "\n",
       "                                           Location Bed Bath         Area  \\\n",
       "0             Gulshan-e-Iqbal, Gulshan-e-Iqbal Town   4    4  250 Sq. Yd.   \n",
       "1        Gulshan-e-Iqbal - Block 7, Gulshan-e-Iqbal   3    3  150 Sq. Yd.   \n",
       "2     Gulshan-e-Iqbal - Block 10-A, Gulshan-e-Iqbal   3    3  130 Sq. Yd.   \n",
       "3             Gulshan-e-Jamal, Gulshan-e-Iqbal Town   8    6  325 Sq. Yd.   \n",
       "4       Gulshan-e-Iqbal - Block 11, Gulshan-e-Iqbal  NA   NA  203 Sq. Yd.   \n",
       "5                 Bahadurabad, Gulshan-e-Iqbal Town   4    4  244 Sq. Yd.   \n",
       "6                   Sharfabad, Gulshan-e-Iqbal Town   5    6  267 Sq. Yd.   \n",
       "7   Gulshan-e-Iqbal - Block 13/D-2, Gulshan-e-Iqbal   3    3  139 Sq. Yd.   \n",
       "8   Gulshan-e-Iqbal - Block 13/D-2, Gulshan-e-Iqbal   2    2   83 Sq. Yd.   \n",
       "9       Gulshan-e-Iqbal - Block 4A, Gulshan-e-Iqbal  NA   NA  167 Sq. Yd.   \n",
       "10                    Gulshan-e-Iqbal Town, Karachi   4    4  250 Sq. Yd.   \n",
       "11       Gulshan-e-Iqbal - Block 7, Gulshan-e-Iqbal   3    3  144 Sq. Yd.   \n",
       "12                  Sharfabad, Gulshan-e-Iqbal Town   3    3  183 Sq. Yd.   \n",
       "13  Gulshan-e-Iqbal - Block 13/D-2, Gulshan-e-Iqbal   3    3  133 Sq. Yd.   \n",
       "14      Gulshan-e-Iqbal - Block 16, Gulshan-e-Iqbal   3    3  144 Sq. Yd.   \n",
       "15            Gulshan-e-Jamal, Gulshan-e-Iqbal Town   5    6  500 Sq. Yd.   \n",
       "16            Gulshan-e-Jamal, Gulshan-e-Iqbal Town   9    6  300 Sq. Yd.   \n",
       "17       Gulshan-e-Iqbal - Block 2, Gulshan-e-Iqbal   3    4  189 Sq. Yd.   \n",
       "18    Gulshan-e-Iqbal - Block 10-A, Gulshan-e-Iqbal   3    4  267 Sq. Yd.   \n",
       "19             Dhoraji Colony, Gulshan-e-Iqbal Town   6    6  333 Sq. Yd.   \n",
       "20       Mohammad Ali Society, Gulshan-e-Iqbal Town   5    6  225 Sq. Yd.   \n",
       "21               Alamgir Road, Gulshan-e-Iqbal Town   3    4  222 Sq. Yd.   \n",
       "22                  Sharfabad, Gulshan-e-Iqbal Town   3    3  200 Sq. Yd.   \n",
       "23       Gulshan-e-Iqbal - Block 4, Gulshan-e-Iqbal   5    5  390 Sq. Yd.   \n",
       "24       Gulshan-e-Iqbal - Block 5, Gulshan-e-Iqbal   6    6  240 Sq. Yd.   \n",
       "\n",
       "                                        Badges  \\\n",
       "0                   [Hot badge, Trusted badge]   \n",
       "1   [Hot badge, Trusted badge, Verified badge]   \n",
       "2   [Hot badge, Trusted badge, Verified badge]   \n",
       "3                                  [Hot badge]   \n",
       "4                  [Hot badge, Verified badge]   \n",
       "5   [Hot badge, Trusted badge, Verified badge]   \n",
       "6   [Hot badge, Trusted badge, Verified badge]   \n",
       "7                  [Hot badge, Verified badge]   \n",
       "8                  [Hot badge, Verified badge]   \n",
       "9                  [Hot badge, Verified badge]   \n",
       "10                  [Hot badge, Trusted badge]   \n",
       "11                  [Hot badge, Trusted badge]   \n",
       "12                                 [Hot badge]   \n",
       "13                                 [Hot badge]   \n",
       "14                 [Hot badge, Verified badge]   \n",
       "15                                 [Hot badge]   \n",
       "16                                 [Hot badge]   \n",
       "17                                 [No badges]   \n",
       "18                                 [No badges]   \n",
       "19                                 [No badges]   \n",
       "20                                 [No badges]   \n",
       "21                                 [No badges]   \n",
       "22                                 [No badges]   \n",
       "23                                 [No badges]   \n",
       "24                                 [No badges]   \n",
       "\n",
       "                                   Listing Time  \\\n",
       "0   Added: 20 hours ago (Updated: 20 hours ago)   \n",
       "1                             Added: 1 week ago   \n",
       "2                             Added: 1 week ago   \n",
       "3                           Added: 11 hours ago   \n",
       "4                           Added: 20 hours ago   \n",
       "5                           Added: 23 hours ago   \n",
       "6                           Added: 23 hours ago   \n",
       "7                              Added: 1 day ago   \n",
       "8                              Added: 1 day ago   \n",
       "9                             Added: 2 days ago   \n",
       "10  Added: 20 hours ago (Updated: 20 hours ago)   \n",
       "11                            Added: 4 days ago   \n",
       "12                          Added: 10 hours ago   \n",
       "13                          Added: 11 hours ago   \n",
       "14                          Added: 11 hours ago   \n",
       "15                          Added: 11 hours ago   \n",
       "16                          Added: 11 hours ago   \n",
       "17                         Added: 6 minutes ago   \n",
       "18                         Added: 6 minutes ago   \n",
       "19                           Added: 5 hours ago   \n",
       "20                           Added: 5 hours ago   \n",
       "21                           Added: 5 hours ago   \n",
       "22  Added: 10 hours ago (Updated: 10 hours ago)   \n",
       "23                          Added: 13 hours ago   \n",
       "24                          Added: 13 hours ago   \n",
       "\n",
       "                                            Thumbnail  \n",
       "0   https://media.zameen.com/thumbnails/203549197-...  \n",
       "1   https://media.zameen.com/thumbnails/202569126-...  \n",
       "2   https://media.zameen.com/thumbnails/202307331-...  \n",
       "3   https://media.zameen.com/thumbnails/195808768-...  \n",
       "4   https://media.zameen.com/thumbnails/203043826-...  \n",
       "5   https://media.zameen.com/thumbnails/196707080-...  \n",
       "6   https://media.zameen.com/thumbnails/196838977-...  \n",
       "7   https://media.zameen.com/thumbnails/203373868-...  \n",
       "8   https://media.zameen.com/thumbnails/203372315-...  \n",
       "9   https://media.zameen.com/thumbnails/199908785-...  \n",
       "10  https://media.zameen.com/thumbnails/203542566-...  \n",
       "11  https://media.zameen.com/thumbnails/187975848-...  \n",
       "12  https://media.zameen.com/thumbnails/203498196-...  \n",
       "13  https://media.zameen.com/thumbnails/187895826-...  \n",
       "14  https://media.zameen.com/thumbnails/201180151-...  \n",
       "15  https://media.zameen.com/thumbnails/195892568-...  \n",
       "16  https://media.zameen.com/thumbnails/195489070-...  \n",
       "17  https://media.zameen.com/thumbnails/191990562-...  \n",
       "18  https://media.zameen.com/thumbnails/190906266-...  \n",
       "19  https://media.zameen.com/thumbnails/194041580-...  \n",
       "20  https://media.zameen.com/thumbnails/190870700-...  \n",
       "21  https://media.zameen.com/thumbnails/188287211-...  \n",
       "22  https://media.zameen.com/thumbnails/203628193-...  \n",
       "23  https://media.zameen.com/thumbnails/142626548-...  \n",
       "24  https://media.zameen.com/thumbnails/148879360-...  "
      ]
     },
     "execution_count": 47,
     "metadata": {},
     "output_type": "execute_result"
    }
   ],
   "source": [
    "df"
   ]
  },
  {
   "cell_type": "code",
   "execution_count": 61,
   "id": "c019192c",
   "metadata": {},
   "outputs": [],
   "source": [
    "df.to_csv(\"Scrapped Data-Zameen 1st Page.csv\", index = False)"
   ]
  },
  {
   "cell_type": "markdown",
   "id": "6c5fcde6",
   "metadata": {},
   "source": [
    "## Converting Image links to Images"
   ]
  },
  {
   "cell_type": "code",
   "execution_count": 62,
   "id": "c6d6cc7d",
   "metadata": {},
   "outputs": [],
   "source": [
    "import pandas as pd\n",
    "from IPython.core.display import HTML"
   ]
  },
  {
   "cell_type": "code",
   "execution_count": 63,
   "id": "1c72ab5d",
   "metadata": {},
   "outputs": [],
   "source": [
    "def path_to_image_html(path):\n",
    "    return '<img src=\"'+ path + '\" width=\"60\" >'"
   ]
  },
  {
   "cell_type": "code",
   "execution_count": 64,
   "id": "038fd324",
   "metadata": {
    "collapsed": true
   },
   "outputs": [
    {
     "data": {
      "text/plain": [
       "'<table border=\"1\" class=\"dataframe\">\\n  <thead>\\n    <tr style=\"text-align: right;\">\\n      <th></th>\\n      <th>Title</th>\\n      <th>Price</th>\\n      <th>Location</th>\\n      <th>Bed</th>\\n      <th>Bath</th>\\n      <th>Area</th>\\n      <th>Badges</th>\\n      <th>Listing Time</th>\\n      <th>Thumbnail</th>\\n    </tr>\\n  </thead>\\n  <tbody>\\n    <tr>\\n      <th>0</th>\\n      <td>250 Sqyds Villa Is Available On Easy Installments</td>\\n      <td>2.9 Crore</td>\\n      <td>Gulshan-e-Iqbal, Gulshan-e-Iqbal Town</td>\\n      <td>4</td>\\n      <td>4</td>\\n      <td>250 Sq. Yd.</td>\\n      <td>[Hot badge, Trusted badge]</td>\\n      <td>Added: 20 hours ago (Updated: 20 hours ago)</td>\\n      <td><img src=\"https://media.zameen.com/thumbnails/203549197-400x300.webp\" width=\"60\" ></td>\\n    </tr>\\n    <tr>\\n      <th>1</th>\\n      <td>3 Bed D D Al Hamra Garden Bock 7 Gulshan-e-iqbal Near Sunday Bazar</td>\\n      <td>1.2 Crore</td>\\n      <td>Gulshan-e-Iqbal - Block 7, Gulshan-e-Iqbal</td>\\n      <td>3</td>\\n      <td>3</td>\\n      <td>150 Sq. Yd.</td>\\n      <td>[Hot badge, Trusted badge, Verified badge]</td>\\n      <td>Added: 1 week ago</td>\\n      <td><img src=\"https://media.zameen.com/thumbnails/202569126-400x300.webp\" width=\"60\" ></td>\\n    </tr>\\n    <tr>\\n      <th>2</th>\\n      <td>A Prime Location 1170 Square Feet Flat Has Landed On Market In Gulshan-e-Iqbal - Block 10-A Of Karachi</td>\\n      <td>1.4 Crore</td>\\n      <td>Gulshan-e-Iqbal - Block 10-A, Gulshan-e-Iqbal</td>\\n      <td>3</td>\\n      <td>3</td>\\n      <td>130 Sq. Yd.</td>\\n      <td>[Hot badge, Trusted badge, Verified badge]</td>\\n      <td>Added: 1 week ago</td>\\n      <td><img src=\"https://media.zameen.com/thumbnails/202307331-400x300.webp\" width=\"60\" ></td>\\n    </tr>\\n    <tr>\\n      <th>3</th>\\n      <td>300 yards Double Story Corner Bungalow for Sale</td>\\n      <td>6 Crore</td>\\n      <td>Gulshan-e-Jamal, Gulshan-e-Iqbal Town</td>\\n      <td>8</td>\\n      <td>6</td>\\n      <td>325 Sq. Yd.</td>\\n      <td>[Hot badge]</td>\\n      <td>Added: 11 hours ago</td>\\n      <td><img src=\"https://media.zameen.com/thumbnails/195808768-400x300.webp\" width=\"60\" ></td>\\n    </tr>\\n    <tr>\\n      <th>4</th>\\n      <td>Corner 1830 Square Feet Flat For sale Is Available In Gulshan-e-Iqbal - Block 11</td>\\n      <td>1.4 Crore</td>\\n      <td>Gulshan-e-Iqbal - Block 11, Gulshan-e-Iqbal</td>\\n      <td>NA</td>\\n      <td>NA</td>\\n      <td>203 Sq. Yd.</td>\\n      <td>[Hot badge, Verified badge]</td>\\n      <td>Added: 20 hours ago</td>\\n      <td><img src=\"https://media.zameen.com/thumbnails/203043826-400x300.webp\" width=\"60\" ></td>\\n    </tr>\\n    <tr>\\n      <th>5</th>\\n      <td>Brand New Portion Available For Sale</td>\\n      <td>4.25 Crore</td>\\n      <td>Bahadurabad, Gulshan-e-Iqbal Town</td>\\n      <td>4</td>\\n      <td>4</td>\\n      <td>244 Sq. Yd.</td>\\n      <td>[Hot badge, Trusted badge, Verified badge]</td>\\n      <td>Added: 23 hours ago</td>\\n      <td><img src=\"https://media.zameen.com/thumbnails/196707080-400x300.webp\" width=\"60\" ></td>\\n    </tr>\\n    <tr>\\n      <th>6</th>\\n      <td>Portion Available For Sale Near 4 Minar Chowrangi</td>\\n      <td>4.2 Crore</td>\\n      <td>Sharfabad, Gulshan-e-Iqbal Town</td>\\n      <td>5</td>\\n      <td>6</td>\\n      <td>267 Sq. Yd.</td>\\n      <td>[Hot badge, Trusted badge, Verified badge]</td>\\n      <td>Added: 23 hours ago</td>\\n      <td><img src=\"https://media.zameen.com/thumbnails/196838977-400x300.webp\" width=\"60\" ></td>\\n    </tr>\\n    <tr>\\n      <th>7</th>\\n      <td>3 Bed D/D Fully Renovated Apartment</td>\\n      <td>1.1 Crore</td>\\n      <td>Gulshan-e-Iqbal - Block 13/D-2, Gulshan-e-Iqbal</td>\\n      <td>3</td>\\n      <td>3</td>\\n      <td>139 Sq. Yd.</td>\\n      <td>[Hot badge, Verified badge]</td>\\n      <td>Added: 1 day ago</td>\\n      <td><img src=\"https://media.zameen.com/thumbnails/203373868-400x300.webp\" width=\"60\" ></td>\\n    </tr>\\n    <tr>\\n      <th>8</th>\\n      <td>2 Bed Fully Renovated Apartment</td>\\n      <td>65 Lakh</td>\\n      <td>Gulshan-e-Iqbal - Block 13/D-2, Gulshan-e-Iqbal</td>\\n      <td>2</td>\\n      <td>2</td>\\n      <td>83 Sq. Yd.</td>\\n      <td>[Hot badge, Verified badge]</td>\\n      <td>Added: 1 day ago</td>\\n      <td><img src=\"https://media.zameen.com/thumbnails/203372315-400x300.webp\" width=\"60\" ></td>\\n    </tr>\\n    <tr>\\n      <th>9</th>\\n      <td>A Perfect Prime Location Flat Awaits You In Gulshan-e-Iqbal - Block 4A Karachi</td>\\n      <td>1.95 Crore</td>\\n      <td>Gulshan-e-Iqbal - Block 4A, Gulshan-e-Iqbal</td>\\n      <td>NA</td>\\n      <td>NA</td>\\n      <td>167 Sq. Yd.</td>\\n      <td>[Hot badge, Verified badge]</td>\\n      <td>Added: 2 days ago</td>\\n      <td><img src=\"https://media.zameen.com/thumbnails/199908785-400x300.webp\" width=\"60\" ></td>\\n    </tr>\\n    <tr>\\n      <th>10</th>\\n      <td>250 Sqyds Villa Is Available On Easy Installments</td>\\n      <td>2.9 Crore</td>\\n      <td>Gulshan-e-Iqbal Town, Karachi</td>\\n      <td>4</td>\\n      <td>4</td>\\n      <td>250 Sq. Yd.</td>\\n      <td>[Hot badge, Trusted badge]</td>\\n      <td>Added: 20 hours ago (Updated: 20 hours ago)</td>\\n      <td><img src=\"https://media.zameen.com/thumbnails/203542566-400x300.webp\" width=\"60\" ></td>\\n    </tr>\\n    <tr>\\n      <th>11</th>\\n      <td>Gulshan Vip Block 7 3 Bed D/d West Open Flat For Sale</td>\\n      <td>1.25 Crore</td>\\n      <td>Gulshan-e-Iqbal - Block 7, Gulshan-e-Iqbal</td>\\n      <td>3</td>\\n      <td>3</td>\\n      <td>144 Sq. Yd.</td>\\n      <td>[Hot badge, Trusted badge]</td>\\n      <td>Added: 4 days ago</td>\\n      <td><img src=\"https://media.zameen.com/thumbnails/187975848-400x300.webp\" width=\"60\" ></td>\\n    </tr>\\n    <tr>\\n      <th>12</th>\\n      <td>Flat #104, Apple Garden 1st Floor Located Opposite Sharfabad School</td>\\n      <td>2.25 Crore</td>\\n      <td>Sharfabad, Gulshan-e-Iqbal Town</td>\\n      <td>3</td>\\n      <td>3</td>\\n      <td>183 Sq. Yd.</td>\\n      <td>[Hot badge]</td>\\n      <td>Added: 10 hours ago</td>\\n      <td><img src=\"https://media.zameen.com/thumbnails/203498196-400x300.webp\" width=\"60\" ></td>\\n    </tr>\\n    <tr>\\n      <th>13</th>\\n      <td>A Flat Of 1200 Square Feet In Karachi</td>\\n      <td>1.05 Crore</td>\\n      <td>Gulshan-e-Iqbal - Block 13/D-2, Gulshan-e-Iqbal</td>\\n      <td>3</td>\\n      <td>3</td>\\n      <td>133 Sq. Yd.</td>\\n      <td>[Hot badge]</td>\\n      <td>Added: 11 hours ago</td>\\n      <td><img src=\"https://media.zameen.com/thumbnails/187895826-400x300.webp\" width=\"60\" ></td>\\n    </tr>\\n    <tr>\\n      <th>14</th>\\n      <td>1300 Square Feet Flat In Gulshan-e-Iqbal - Block 16 For sale At Good Location</td>\\n      <td>1.75 Crore</td>\\n      <td>Gulshan-e-Iqbal - Block 16, Gulshan-e-Iqbal</td>\\n      <td>3</td>\\n      <td>3</td>\\n      <td>144 Sq. Yd.</td>\\n      <td>[Hot badge, Verified badge]</td>\\n      <td>Added: 11 hours ago</td>\\n      <td><img src=\"https://media.zameen.com/thumbnails/201180151-400x300.webp\" width=\"60\" ></td>\\n    </tr>\\n    <tr>\\n      <th>15</th>\\n      <td>Buying A House In Gulshan-e-Jamal Karachi?</td>\\n      <td>9.35 Crore</td>\\n      <td>Gulshan-e-Jamal, Gulshan-e-Iqbal Town</td>\\n      <td>5</td>\\n      <td>6</td>\\n      <td>500 Sq. Yd.</td>\\n      <td>[Hot badge]</td>\\n      <td>Added: 11 hours ago</td>\\n      <td><img src=\"https://media.zameen.com/thumbnails/195892568-400x300.webp\" width=\"60\" ></td>\\n    </tr>\\n    <tr>\\n      <th>16</th>\\n      <td>Tripple Storey 300 Square Yards House For sale In Gulshan-e-Jamal Karachi</td>\\n      <td>6.75 Crore</td>\\n      <td>Gulshan-e-Jamal, Gulshan-e-Iqbal Town</td>\\n      <td>9</td>\\n      <td>6</td>\\n      <td>300 Sq. Yd.</td>\\n      <td>[Hot badge]</td>\\n      <td>Added: 11 hours ago</td>\\n      <td><img src=\"https://media.zameen.com/thumbnails/195489070-400x300.webp\" width=\"60\" ></td>\\n    </tr>\\n    <tr>\\n      <th>17</th>\\n      <td>Saima Royal Residency 3 Bed With Rooftop</td>\\n      <td>2.25 Crore</td>\\n      <td>Gulshan-e-Iqbal - Block 2, Gulshan-e-Iqbal</td>\\n      <td>3</td>\\n      <td>4</td>\\n      <td>189 Sq. Yd.</td>\\n      <td>[No badges]</td>\\n      <td>Added: 6 minutes ago</td>\\n      <td><img src=\"https://media.zameen.com/thumbnails/191990562-400x300.webp\" width=\"60\" ></td>\\n    </tr>\\n    <tr>\\n      <th>18</th>\\n      <td>Saima Square One 3 Bed DD Flat For Sale</td>\\n      <td>3.5 Crore</td>\\n      <td>Gulshan-e-Iqbal - Block 10-A, Gulshan-e-Iqbal</td>\\n      <td>3</td>\\n      <td>4</td>\\n      <td>267 Sq. Yd.</td>\\n      <td>[No badges]</td>\\n      <td>Added: 6 minutes ago</td>\\n      <td><img src=\"https://media.zameen.com/thumbnails/190906266-400x300.webp\" width=\"60\" ></td>\\n    </tr>\\n    <tr>\\n      <th>19</th>\\n      <td>Flat Available For Sale</td>\\n      <td>2.7 Crore</td>\\n      <td>Dhoraji Colony, Gulshan-e-Iqbal Town</td>\\n      <td>6</td>\\n      <td>6</td>\\n      <td>333 Sq. Yd.</td>\\n      <td>[No badges]</td>\\n      <td>Added: 5 hours ago</td>\\n      <td><img src=\"https://media.zameen.com/thumbnails/194041580-400x300.webp\" width=\"60\" ></td>\\n    </tr>\\n    <tr>\\n      <th>20</th>\\n      <td>Townhouse Available For Sale</td>\\n      <td>8.5 Crore</td>\\n      <td>Mohammad Ali Society, Gulshan-e-Iqbal Town</td>\\n      <td>5</td>\\n      <td>6</td>\\n      <td>225 Sq. Yd.</td>\\n      <td>[No badges]</td>\\n      <td>Added: 5 hours ago</td>\\n      <td><img src=\"https://media.zameen.com/thumbnails/190870700-400x300.webp\" width=\"60\" ></td>\\n    </tr>\\n    <tr>\\n      <th>21</th>\\n      <td>Flat Available For Sale</td>\\n      <td>4.5 Crore</td>\\n      <td>Alamgir Road, Gulshan-e-Iqbal Town</td>\\n      <td>3</td>\\n      <td>4</td>\\n      <td>222 Sq. Yd.</td>\\n      <td>[No badges]</td>\\n      <td>Added: 5 hours ago</td>\\n      <td><img src=\"https://media.zameen.com/thumbnails/188287211-400x300.webp\" width=\"60\" ></td>\\n    </tr>\\n    <tr>\\n      <th>22</th>\\n      <td>Newly Constructed 3 Bed DD 1 Floor Portion for Sale in Sharfabad</td>\\n      <td>3 Crore</td>\\n      <td>Sharfabad, Gulshan-e-Iqbal Town</td>\\n      <td>3</td>\\n      <td>3</td>\\n      <td>200 Sq. Yd.</td>\\n      <td>[No badges]</td>\\n      <td>Added: 10 hours ago (Updated: 10 hours ago)</td>\\n      <td><img src=\"https://media.zameen.com/thumbnails/203628193-400x300.webp\" width=\"60\" ></td>\\n    </tr>\\n    <tr>\\n      <th>23</th>\\n      <td>Architecture Design Corner One Unit Bungalow For Sale In Gulshan-e-iqbal</td>\\n      <td>6.6 Crore</td>\\n      <td>Gulshan-e-Iqbal - Block 4, Gulshan-e-Iqbal</td>\\n      <td>5</td>\\n      <td>5</td>\\n      <td>390 Sq. Yd.</td>\\n      <td>[No badges]</td>\\n      <td>Added: 13 hours ago</td>\\n      <td><img src=\"https://media.zameen.com/thumbnails/142626548-400x300.webp\" width=\"60\" ></td>\\n    </tr>\\n    <tr>\\n      <th>24</th>\\n      <td>Full Renovated Bungalow For Sale On Main Sir Syed University Road</td>\\n      <td>6.25 Crore</td>\\n      <td>Gulshan-e-Iqbal - Block 5, Gulshan-e-Iqbal</td>\\n      <td>6</td>\\n      <td>6</td>\\n      <td>240 Sq. Yd.</td>\\n      <td>[No badges]</td>\\n      <td>Added: 13 hours ago</td>\\n      <td><img src=\"https://media.zameen.com/thumbnails/148879360-400x300.webp\" width=\"60\" ></td>\\n    </tr>\\n  </tbody>\\n</table>'"
      ]
     },
     "execution_count": 64,
     "metadata": {},
     "output_type": "execute_result"
    }
   ],
   "source": [
    "df.to_html(escape=False, formatters=dict(Thumbnail=path_to_image_html))"
   ]
  },
  {
   "cell_type": "code",
   "execution_count": 65,
   "id": "dabf1ec7",
   "metadata": {},
   "outputs": [],
   "source": [
    "df = HTML(df.to_html(escape=False,formatters=dict(Thumbnail=path_to_image_html)))"
   ]
  },
  {
   "cell_type": "code",
   "execution_count": 66,
   "id": "326c0d26",
   "metadata": {},
   "outputs": [
    {
     "data": {
      "text/html": [
       "<table border=\"1\" class=\"dataframe\">\n",
       "  <thead>\n",
       "    <tr style=\"text-align: right;\">\n",
       "      <th></th>\n",
       "      <th>Title</th>\n",
       "      <th>Price</th>\n",
       "      <th>Location</th>\n",
       "      <th>Bed</th>\n",
       "      <th>Bath</th>\n",
       "      <th>Area</th>\n",
       "      <th>Badges</th>\n",
       "      <th>Listing Time</th>\n",
       "      <th>Thumbnail</th>\n",
       "    </tr>\n",
       "  </thead>\n",
       "  <tbody>\n",
       "    <tr>\n",
       "      <th>0</th>\n",
       "      <td>250 Sqyds Villa Is Available On Easy Installments</td>\n",
       "      <td>2.9 Crore</td>\n",
       "      <td>Gulshan-e-Iqbal, Gulshan-e-Iqbal Town</td>\n",
       "      <td>4</td>\n",
       "      <td>4</td>\n",
       "      <td>250 Sq. Yd.</td>\n",
       "      <td>[Hot badge, Trusted badge]</td>\n",
       "      <td>Added: 20 hours ago (Updated: 20 hours ago)</td>\n",
       "      <td><img src=\"https://media.zameen.com/thumbnails/203549197-400x300.webp\" width=\"60\" ></td>\n",
       "    </tr>\n",
       "    <tr>\n",
       "      <th>1</th>\n",
       "      <td>3 Bed D D Al Hamra Garden Bock 7 Gulshan-e-iqbal Near Sunday Bazar</td>\n",
       "      <td>1.2 Crore</td>\n",
       "      <td>Gulshan-e-Iqbal - Block 7, Gulshan-e-Iqbal</td>\n",
       "      <td>3</td>\n",
       "      <td>3</td>\n",
       "      <td>150 Sq. Yd.</td>\n",
       "      <td>[Hot badge, Trusted badge, Verified badge]</td>\n",
       "      <td>Added: 1 week ago</td>\n",
       "      <td><img src=\"https://media.zameen.com/thumbnails/202569126-400x300.webp\" width=\"60\" ></td>\n",
       "    </tr>\n",
       "    <tr>\n",
       "      <th>2</th>\n",
       "      <td>A Prime Location 1170 Square Feet Flat Has Landed On Market In Gulshan-e-Iqbal - Block 10-A Of Karachi</td>\n",
       "      <td>1.4 Crore</td>\n",
       "      <td>Gulshan-e-Iqbal - Block 10-A, Gulshan-e-Iqbal</td>\n",
       "      <td>3</td>\n",
       "      <td>3</td>\n",
       "      <td>130 Sq. Yd.</td>\n",
       "      <td>[Hot badge, Trusted badge, Verified badge]</td>\n",
       "      <td>Added: 1 week ago</td>\n",
       "      <td><img src=\"https://media.zameen.com/thumbnails/202307331-400x300.webp\" width=\"60\" ></td>\n",
       "    </tr>\n",
       "    <tr>\n",
       "      <th>3</th>\n",
       "      <td>300 yards Double Story Corner Bungalow for Sale</td>\n",
       "      <td>6 Crore</td>\n",
       "      <td>Gulshan-e-Jamal, Gulshan-e-Iqbal Town</td>\n",
       "      <td>8</td>\n",
       "      <td>6</td>\n",
       "      <td>325 Sq. Yd.</td>\n",
       "      <td>[Hot badge]</td>\n",
       "      <td>Added: 11 hours ago</td>\n",
       "      <td><img src=\"https://media.zameen.com/thumbnails/195808768-400x300.webp\" width=\"60\" ></td>\n",
       "    </tr>\n",
       "    <tr>\n",
       "      <th>4</th>\n",
       "      <td>Corner 1830 Square Feet Flat For sale Is Available In Gulshan-e-Iqbal - Block 11</td>\n",
       "      <td>1.4 Crore</td>\n",
       "      <td>Gulshan-e-Iqbal - Block 11, Gulshan-e-Iqbal</td>\n",
       "      <td>NA</td>\n",
       "      <td>NA</td>\n",
       "      <td>203 Sq. Yd.</td>\n",
       "      <td>[Hot badge, Verified badge]</td>\n",
       "      <td>Added: 20 hours ago</td>\n",
       "      <td><img src=\"https://media.zameen.com/thumbnails/203043826-400x300.webp\" width=\"60\" ></td>\n",
       "    </tr>\n",
       "    <tr>\n",
       "      <th>5</th>\n",
       "      <td>Brand New Portion Available For Sale</td>\n",
       "      <td>4.25 Crore</td>\n",
       "      <td>Bahadurabad, Gulshan-e-Iqbal Town</td>\n",
       "      <td>4</td>\n",
       "      <td>4</td>\n",
       "      <td>244 Sq. Yd.</td>\n",
       "      <td>[Hot badge, Trusted badge, Verified badge]</td>\n",
       "      <td>Added: 23 hours ago</td>\n",
       "      <td><img src=\"https://media.zameen.com/thumbnails/196707080-400x300.webp\" width=\"60\" ></td>\n",
       "    </tr>\n",
       "    <tr>\n",
       "      <th>6</th>\n",
       "      <td>Portion Available For Sale Near 4 Minar Chowrangi</td>\n",
       "      <td>4.2 Crore</td>\n",
       "      <td>Sharfabad, Gulshan-e-Iqbal Town</td>\n",
       "      <td>5</td>\n",
       "      <td>6</td>\n",
       "      <td>267 Sq. Yd.</td>\n",
       "      <td>[Hot badge, Trusted badge, Verified badge]</td>\n",
       "      <td>Added: 23 hours ago</td>\n",
       "      <td><img src=\"https://media.zameen.com/thumbnails/196838977-400x300.webp\" width=\"60\" ></td>\n",
       "    </tr>\n",
       "    <tr>\n",
       "      <th>7</th>\n",
       "      <td>3 Bed D/D Fully Renovated Apartment</td>\n",
       "      <td>1.1 Crore</td>\n",
       "      <td>Gulshan-e-Iqbal - Block 13/D-2, Gulshan-e-Iqbal</td>\n",
       "      <td>3</td>\n",
       "      <td>3</td>\n",
       "      <td>139 Sq. Yd.</td>\n",
       "      <td>[Hot badge, Verified badge]</td>\n",
       "      <td>Added: 1 day ago</td>\n",
       "      <td><img src=\"https://media.zameen.com/thumbnails/203373868-400x300.webp\" width=\"60\" ></td>\n",
       "    </tr>\n",
       "    <tr>\n",
       "      <th>8</th>\n",
       "      <td>2 Bed Fully Renovated Apartment</td>\n",
       "      <td>65 Lakh</td>\n",
       "      <td>Gulshan-e-Iqbal - Block 13/D-2, Gulshan-e-Iqbal</td>\n",
       "      <td>2</td>\n",
       "      <td>2</td>\n",
       "      <td>83 Sq. Yd.</td>\n",
       "      <td>[Hot badge, Verified badge]</td>\n",
       "      <td>Added: 1 day ago</td>\n",
       "      <td><img src=\"https://media.zameen.com/thumbnails/203372315-400x300.webp\" width=\"60\" ></td>\n",
       "    </tr>\n",
       "    <tr>\n",
       "      <th>9</th>\n",
       "      <td>A Perfect Prime Location Flat Awaits You In Gulshan-e-Iqbal - Block 4A Karachi</td>\n",
       "      <td>1.95 Crore</td>\n",
       "      <td>Gulshan-e-Iqbal - Block 4A, Gulshan-e-Iqbal</td>\n",
       "      <td>NA</td>\n",
       "      <td>NA</td>\n",
       "      <td>167 Sq. Yd.</td>\n",
       "      <td>[Hot badge, Verified badge]</td>\n",
       "      <td>Added: 2 days ago</td>\n",
       "      <td><img src=\"https://media.zameen.com/thumbnails/199908785-400x300.webp\" width=\"60\" ></td>\n",
       "    </tr>\n",
       "    <tr>\n",
       "      <th>10</th>\n",
       "      <td>250 Sqyds Villa Is Available On Easy Installments</td>\n",
       "      <td>2.9 Crore</td>\n",
       "      <td>Gulshan-e-Iqbal Town, Karachi</td>\n",
       "      <td>4</td>\n",
       "      <td>4</td>\n",
       "      <td>250 Sq. Yd.</td>\n",
       "      <td>[Hot badge, Trusted badge]</td>\n",
       "      <td>Added: 20 hours ago (Updated: 20 hours ago)</td>\n",
       "      <td><img src=\"https://media.zameen.com/thumbnails/203542566-400x300.webp\" width=\"60\" ></td>\n",
       "    </tr>\n",
       "    <tr>\n",
       "      <th>11</th>\n",
       "      <td>Gulshan Vip Block 7 3 Bed D/d West Open Flat For Sale</td>\n",
       "      <td>1.25 Crore</td>\n",
       "      <td>Gulshan-e-Iqbal - Block 7, Gulshan-e-Iqbal</td>\n",
       "      <td>3</td>\n",
       "      <td>3</td>\n",
       "      <td>144 Sq. Yd.</td>\n",
       "      <td>[Hot badge, Trusted badge]</td>\n",
       "      <td>Added: 4 days ago</td>\n",
       "      <td><img src=\"https://media.zameen.com/thumbnails/187975848-400x300.webp\" width=\"60\" ></td>\n",
       "    </tr>\n",
       "    <tr>\n",
       "      <th>12</th>\n",
       "      <td>Flat #104, Apple Garden 1st Floor Located Opposite Sharfabad School</td>\n",
       "      <td>2.25 Crore</td>\n",
       "      <td>Sharfabad, Gulshan-e-Iqbal Town</td>\n",
       "      <td>3</td>\n",
       "      <td>3</td>\n",
       "      <td>183 Sq. Yd.</td>\n",
       "      <td>[Hot badge]</td>\n",
       "      <td>Added: 10 hours ago</td>\n",
       "      <td><img src=\"https://media.zameen.com/thumbnails/203498196-400x300.webp\" width=\"60\" ></td>\n",
       "    </tr>\n",
       "    <tr>\n",
       "      <th>13</th>\n",
       "      <td>A Flat Of 1200 Square Feet In Karachi</td>\n",
       "      <td>1.05 Crore</td>\n",
       "      <td>Gulshan-e-Iqbal - Block 13/D-2, Gulshan-e-Iqbal</td>\n",
       "      <td>3</td>\n",
       "      <td>3</td>\n",
       "      <td>133 Sq. Yd.</td>\n",
       "      <td>[Hot badge]</td>\n",
       "      <td>Added: 11 hours ago</td>\n",
       "      <td><img src=\"https://media.zameen.com/thumbnails/187895826-400x300.webp\" width=\"60\" ></td>\n",
       "    </tr>\n",
       "    <tr>\n",
       "      <th>14</th>\n",
       "      <td>1300 Square Feet Flat In Gulshan-e-Iqbal - Block 16 For sale At Good Location</td>\n",
       "      <td>1.75 Crore</td>\n",
       "      <td>Gulshan-e-Iqbal - Block 16, Gulshan-e-Iqbal</td>\n",
       "      <td>3</td>\n",
       "      <td>3</td>\n",
       "      <td>144 Sq. Yd.</td>\n",
       "      <td>[Hot badge, Verified badge]</td>\n",
       "      <td>Added: 11 hours ago</td>\n",
       "      <td><img src=\"https://media.zameen.com/thumbnails/201180151-400x300.webp\" width=\"60\" ></td>\n",
       "    </tr>\n",
       "    <tr>\n",
       "      <th>15</th>\n",
       "      <td>Buying A House In Gulshan-e-Jamal Karachi?</td>\n",
       "      <td>9.35 Crore</td>\n",
       "      <td>Gulshan-e-Jamal, Gulshan-e-Iqbal Town</td>\n",
       "      <td>5</td>\n",
       "      <td>6</td>\n",
       "      <td>500 Sq. Yd.</td>\n",
       "      <td>[Hot badge]</td>\n",
       "      <td>Added: 11 hours ago</td>\n",
       "      <td><img src=\"https://media.zameen.com/thumbnails/195892568-400x300.webp\" width=\"60\" ></td>\n",
       "    </tr>\n",
       "    <tr>\n",
       "      <th>16</th>\n",
       "      <td>Tripple Storey 300 Square Yards House For sale In Gulshan-e-Jamal Karachi</td>\n",
       "      <td>6.75 Crore</td>\n",
       "      <td>Gulshan-e-Jamal, Gulshan-e-Iqbal Town</td>\n",
       "      <td>9</td>\n",
       "      <td>6</td>\n",
       "      <td>300 Sq. Yd.</td>\n",
       "      <td>[Hot badge]</td>\n",
       "      <td>Added: 11 hours ago</td>\n",
       "      <td><img src=\"https://media.zameen.com/thumbnails/195489070-400x300.webp\" width=\"60\" ></td>\n",
       "    </tr>\n",
       "    <tr>\n",
       "      <th>17</th>\n",
       "      <td>Saima Royal Residency 3 Bed With Rooftop</td>\n",
       "      <td>2.25 Crore</td>\n",
       "      <td>Gulshan-e-Iqbal - Block 2, Gulshan-e-Iqbal</td>\n",
       "      <td>3</td>\n",
       "      <td>4</td>\n",
       "      <td>189 Sq. Yd.</td>\n",
       "      <td>[No badges]</td>\n",
       "      <td>Added: 6 minutes ago</td>\n",
       "      <td><img src=\"https://media.zameen.com/thumbnails/191990562-400x300.webp\" width=\"60\" ></td>\n",
       "    </tr>\n",
       "    <tr>\n",
       "      <th>18</th>\n",
       "      <td>Saima Square One 3 Bed DD Flat For Sale</td>\n",
       "      <td>3.5 Crore</td>\n",
       "      <td>Gulshan-e-Iqbal - Block 10-A, Gulshan-e-Iqbal</td>\n",
       "      <td>3</td>\n",
       "      <td>4</td>\n",
       "      <td>267 Sq. Yd.</td>\n",
       "      <td>[No badges]</td>\n",
       "      <td>Added: 6 minutes ago</td>\n",
       "      <td><img src=\"https://media.zameen.com/thumbnails/190906266-400x300.webp\" width=\"60\" ></td>\n",
       "    </tr>\n",
       "    <tr>\n",
       "      <th>19</th>\n",
       "      <td>Flat Available For Sale</td>\n",
       "      <td>2.7 Crore</td>\n",
       "      <td>Dhoraji Colony, Gulshan-e-Iqbal Town</td>\n",
       "      <td>6</td>\n",
       "      <td>6</td>\n",
       "      <td>333 Sq. Yd.</td>\n",
       "      <td>[No badges]</td>\n",
       "      <td>Added: 5 hours ago</td>\n",
       "      <td><img src=\"https://media.zameen.com/thumbnails/194041580-400x300.webp\" width=\"60\" ></td>\n",
       "    </tr>\n",
       "    <tr>\n",
       "      <th>20</th>\n",
       "      <td>Townhouse Available For Sale</td>\n",
       "      <td>8.5 Crore</td>\n",
       "      <td>Mohammad Ali Society, Gulshan-e-Iqbal Town</td>\n",
       "      <td>5</td>\n",
       "      <td>6</td>\n",
       "      <td>225 Sq. Yd.</td>\n",
       "      <td>[No badges]</td>\n",
       "      <td>Added: 5 hours ago</td>\n",
       "      <td><img src=\"https://media.zameen.com/thumbnails/190870700-400x300.webp\" width=\"60\" ></td>\n",
       "    </tr>\n",
       "    <tr>\n",
       "      <th>21</th>\n",
       "      <td>Flat Available For Sale</td>\n",
       "      <td>4.5 Crore</td>\n",
       "      <td>Alamgir Road, Gulshan-e-Iqbal Town</td>\n",
       "      <td>3</td>\n",
       "      <td>4</td>\n",
       "      <td>222 Sq. Yd.</td>\n",
       "      <td>[No badges]</td>\n",
       "      <td>Added: 5 hours ago</td>\n",
       "      <td><img src=\"https://media.zameen.com/thumbnails/188287211-400x300.webp\" width=\"60\" ></td>\n",
       "    </tr>\n",
       "    <tr>\n",
       "      <th>22</th>\n",
       "      <td>Newly Constructed 3 Bed DD 1 Floor Portion for Sale in Sharfabad</td>\n",
       "      <td>3 Crore</td>\n",
       "      <td>Sharfabad, Gulshan-e-Iqbal Town</td>\n",
       "      <td>3</td>\n",
       "      <td>3</td>\n",
       "      <td>200 Sq. Yd.</td>\n",
       "      <td>[No badges]</td>\n",
       "      <td>Added: 10 hours ago (Updated: 10 hours ago)</td>\n",
       "      <td><img src=\"https://media.zameen.com/thumbnails/203628193-400x300.webp\" width=\"60\" ></td>\n",
       "    </tr>\n",
       "    <tr>\n",
       "      <th>23</th>\n",
       "      <td>Architecture Design Corner One Unit Bungalow For Sale In Gulshan-e-iqbal</td>\n",
       "      <td>6.6 Crore</td>\n",
       "      <td>Gulshan-e-Iqbal - Block 4, Gulshan-e-Iqbal</td>\n",
       "      <td>5</td>\n",
       "      <td>5</td>\n",
       "      <td>390 Sq. Yd.</td>\n",
       "      <td>[No badges]</td>\n",
       "      <td>Added: 13 hours ago</td>\n",
       "      <td><img src=\"https://media.zameen.com/thumbnails/142626548-400x300.webp\" width=\"60\" ></td>\n",
       "    </tr>\n",
       "    <tr>\n",
       "      <th>24</th>\n",
       "      <td>Full Renovated Bungalow For Sale On Main Sir Syed University Road</td>\n",
       "      <td>6.25 Crore</td>\n",
       "      <td>Gulshan-e-Iqbal - Block 5, Gulshan-e-Iqbal</td>\n",
       "      <td>6</td>\n",
       "      <td>6</td>\n",
       "      <td>240 Sq. Yd.</td>\n",
       "      <td>[No badges]</td>\n",
       "      <td>Added: 13 hours ago</td>\n",
       "      <td><img src=\"https://media.zameen.com/thumbnails/148879360-400x300.webp\" width=\"60\" ></td>\n",
       "    </tr>\n",
       "  </tbody>\n",
       "</table>"
      ],
      "text/plain": [
       "<IPython.core.display.HTML object>"
      ]
     },
     "execution_count": 66,
     "metadata": {},
     "output_type": "execute_result"
    }
   ],
   "source": [
    "df"
   ]
  },
  {
   "cell_type": "code",
   "execution_count": null,
   "id": "d73e9e6d",
   "metadata": {},
   "outputs": [],
   "source": []
  },
  {
   "cell_type": "code",
   "execution_count": null,
   "id": "df71e5d6",
   "metadata": {},
   "outputs": [],
   "source": []
  }
 ],
 "metadata": {
  "kernelspec": {
   "display_name": "Python 3 (ipykernel)",
   "language": "python",
   "name": "python3"
  },
  "language_info": {
   "codemirror_mode": {
    "name": "ipython",
    "version": 3
   },
   "file_extension": ".py",
   "mimetype": "text/x-python",
   "name": "python",
   "nbconvert_exporter": "python",
   "pygments_lexer": "ipython3",
   "version": "3.9.13"
  }
 },
 "nbformat": 4,
 "nbformat_minor": 5
}
